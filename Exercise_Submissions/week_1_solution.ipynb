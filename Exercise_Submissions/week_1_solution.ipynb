{
  "nbformat": 4,
  "nbformat_minor": 0,
  "metadata": {
    "colab": {
      "name": "00_pytorch_fundamentals_exercises.ipynb",
      "provenance": []
    },
    "kernelspec": {
      "name": "python3",
      "display_name": "Python 3"
    },
    "language_info": {
      "name": "python"
    },
    "accelerator": "GPU"
  },
  "cells": [
    {
      "cell_type": "markdown",
      "source": [
        "## Arewa Data Science Academy\n",
        "### Deep Learning Cohort2.0\n",
        "\n",
        "#### Name: Umar Faruk Ibrahim\n",
        "#### Email: ibrahimumarfaruk2000@gmail.com\n",
        "#### Title: Week 1 Solution"
      ],
      "metadata": {
        "id": "1wonv3E-rNOm"
      }
    },
    {
      "cell_type": "markdown",
      "source": [
        "# 00. PyTorch Fundamentals Exercises\n",
        "\n",
        "### 1. Documentation reading\n",
        "\n",
        "A big part of deep learning (and learning to code in general) is getting familiar with the documentation of a certain framework you're using. We'll be using the PyTorch documentation a lot throughout the rest of this course. So I'd recommend spending 10-minutes reading the following (it's okay if you don't get some things for now, the focus is not yet full understanding, it's awareness):\n",
        "  * The documentation on [`torch.Tensor`](https://pytorch.org/docs/stable/tensors.html#torch-tensor).\n",
        "  * The documentation on [`torch.cuda`](https://pytorch.org/docs/master/notes/cuda.html#cuda-semantics).\n",
        "\n"
      ],
      "metadata": {
        "id": "AzDBM_v4iMe7"
      }
    },
    {
      "cell_type": "code",
      "source": [
        "# No code solution (reading)"
      ],
      "metadata": {
        "id": "bGD0oD8Kizak"
      },
      "execution_count": null,
      "outputs": []
    },
    {
      "cell_type": "markdown",
      "source": [
        "### 2. Create a random tensor with shape `(7, 7)`.\n"
      ],
      "metadata": {
        "id": "__iXqqz-ioUJ"
      }
    },
    {
      "cell_type": "code",
      "source": [
        "# Import torch\n",
        "import torch\n",
        "\n",
        "# Create random tensor\n",
        "random_tensor1 = torch.rand(7, 7)\n",
        "print(random_tensor1)"
      ],
      "metadata": {
        "id": "6pUq9Dc8i2L7",
        "outputId": "6e941217-25da-442b-c8e7-53a96135ec96",
        "colab": {
          "base_uri": "https://localhost:8080/"
        }
      },
      "execution_count": 29,
      "outputs": [
        {
          "output_type": "stream",
          "name": "stdout",
          "text": [
            "tensor([[0.4012, 0.5627, 0.3858, 0.4965, 0.5638, 0.1089, 0.2379],\n",
            "        [0.9037, 0.0942, 0.4641, 0.9946, 0.6806, 0.5142, 0.0667],\n",
            "        [0.7477, 0.1439, 0.3581, 0.3322, 0.4260, 0.5055, 0.9124],\n",
            "        [0.5624, 0.9478, 0.8059, 0.1839, 0.7243, 0.1466, 0.2881],\n",
            "        [0.6471, 0.6651, 0.8751, 0.3390, 0.5008, 0.7574, 0.0165],\n",
            "        [0.8615, 0.0865, 0.5069, 0.4150, 0.2367, 0.5661, 0.9135],\n",
            "        [0.3538, 0.2032, 0.3151, 0.0044, 0.7257, 0.2599, 0.1663]])\n"
          ]
        }
      ]
    },
    {
      "cell_type": "markdown",
      "source": [
        "### 3. Perform a matrix multiplication on the tensor from 2 with another random tensor with shape `(1, 7)` (hint: you may have to transpose the second tensor)."
      ],
      "metadata": {
        "id": "9-XxvRLfiqkR"
      }
    },
    {
      "cell_type": "code",
      "source": [
        "# Create another random tensor\n",
        "random_tensor2 = torch.rand(1, 7)\n",
        "random_tensor2 = random_tensor2.T\n",
        "# Perform matrix multiplication\n",
        "product = torch.matmul(random_tensor1, random_tensor2)\n",
        "print(product)"
      ],
      "metadata": {
        "id": "NcLqR0Sbi_vT",
        "outputId": "4d9ef742-ae4a-4b73-f6dd-6464d52a0c96",
        "colab": {
          "base_uri": "https://localhost:8080/"
        }
      },
      "execution_count": 30,
      "outputs": [
        {
          "output_type": "stream",
          "name": "stdout",
          "text": [
            "tensor([[1.7682],\n",
            "        [2.1587],\n",
            "        [1.6265],\n",
            "        [2.2905],\n",
            "        [2.2292],\n",
            "        [1.6840],\n",
            "        [1.1208]])\n"
          ]
        }
      ]
    },
    {
      "cell_type": "markdown",
      "source": [
        "### 4. Set the random seed to `0` and do 2 & 3 over again.\n",
        "\n",
        "The output should be:\n",
        "```\n",
        "(tensor([[1.8542],\n",
        "         [1.9611],\n",
        "         [2.2884],\n",
        "         [3.0481],\n",
        "         [1.7067],\n",
        "         [2.5290],\n",
        "         [1.7989]]), torch.Size([7, 1]))\n",
        "```"
      ],
      "metadata": {
        "id": "eiutdKUFiryU"
      }
    },
    {
      "cell_type": "code",
      "source": [
        "# Set manual seed\n",
        "torch.manual_seed(0)\n",
        "\n",
        "# Create two random tensors\n",
        "MatA = torch.rand(7, 7)\n",
        "MatB = torch.rand(1, 7)\n",
        "MatB = MatB.T\n",
        "\n",
        "# Matrix multiply tensors\n",
        "product = torch.matmul(MatA, MatB)\n",
        "print(f\"({product}, {product.shape})\")"
      ],
      "metadata": {
        "id": "D-lOWI_1jRMm",
        "outputId": "bf6b2103-d9e3-4340-f4be-75c75e5e9757",
        "colab": {
          "base_uri": "https://localhost:8080/"
        }
      },
      "execution_count": 32,
      "outputs": [
        {
          "output_type": "stream",
          "name": "stdout",
          "text": [
            "(tensor([[1.8542],\n",
            "        [1.9611],\n",
            "        [2.2884],\n",
            "        [3.0481],\n",
            "        [1.7067],\n",
            "        [2.5290],\n",
            "        [1.7989]]), torch.Size([7, 1]))\n"
          ]
        }
      ]
    },
    {
      "cell_type": "markdown",
      "source": [
        "### 5. Speaking of random seeds, we saw how to set it with `torch.manual_seed()` but is there a GPU equivalent? (hint: you'll need to look into the documentation for `torch.cuda` for this one)\n",
        "  * If there is, set the GPU random seed to `1234`."
      ],
      "metadata": {
        "id": "ezY6ks9Cis37"
      }
    },
    {
      "cell_type": "code",
      "source": [
        "# Set random seed on the GPU\n",
        "Device = torch.cuda.is_available()\n",
        "print(Device)\n",
        "\n",
        "if torch.cuda.is_available():\n",
        "    torch.cuda.manual_seed(1234)\n",
        "    print(\"CUDA is available on this device, and manual seed is set to 1234\")\n",
        "else:\n",
        "    print(\"CUDA is not available on this device.\")\n"
      ],
      "metadata": {
        "id": "_LKWcfSTjp00",
        "outputId": "187d8139-2989-4489-9bbc-6c67345c244f",
        "colab": {
          "base_uri": "https://localhost:8080/"
        }
      },
      "execution_count": 35,
      "outputs": [
        {
          "output_type": "stream",
          "name": "stdout",
          "text": [
            "True\n",
            "CUDA is available on this device, and manual seed is set to 1234\n"
          ]
        }
      ]
    },
    {
      "cell_type": "markdown",
      "source": [
        "\n",
        "### 6. Create two random tensors of shape `(2, 3)` and send them both to the GPU (you'll need access to a GPU for this). Set `torch.manual_seed(1234)` when creating the tensors (this doesn't have to be the GPU random seed). The output should be something like:\n",
        "\n",
        "```\n",
        "Device: cuda\n",
        "(tensor([[0.0290, 0.4019, 0.2598],\n",
        "         [0.3666, 0.0583, 0.7006]], device='cuda:0'),\n",
        " tensor([[0.0518, 0.4681, 0.6738],\n",
        "         [0.3315, 0.7837, 0.5631]], device='cuda:0'))\n",
        "```"
      ],
      "metadata": {
        "id": "Ir9qSaj6it4n"
      }
    },
    {
      "cell_type": "code",
      "source": [
        "# Set random seed\n",
        "torch.manual_seed(1234)\n",
        "\n",
        "# Check for access to GPU\n",
        "if torch.cuda.is_available():\n",
        "    print(\"Device: cuda\\n\")\n",
        "else:\n",
        "    print(\"CUDA is not available on this device.\")\n",
        "# Create two random tensors on GPU\n",
        "tensor_A = torch.rand(2, 3).to('cuda')\n",
        "tensor_B = torch.rand(2, 3).to('cuda')\n",
        "print(tensor_A)\n",
        "print(tensor_B)"
      ],
      "metadata": {
        "id": "azXExiFZj5nm",
        "outputId": "a6ad33c6-abb4-4ece-d18d-ea8a1ac5bb67",
        "colab": {
          "base_uri": "https://localhost:8080/"
        }
      },
      "execution_count": 40,
      "outputs": [
        {
          "output_type": "stream",
          "name": "stdout",
          "text": [
            "Device: cuda\n",
            "\n",
            "tensor([[0.0290, 0.4019, 0.2598],\n",
            "        [0.3666, 0.0583, 0.7006]], device='cuda:0')\n",
            "tensor([[0.0518, 0.4681, 0.6738],\n",
            "        [0.3315, 0.7837, 0.5631]], device='cuda:0')\n"
          ]
        }
      ]
    },
    {
      "cell_type": "markdown",
      "source": [
        "\n",
        "### 7. Perform a matrix multiplication on the tensors you created in 6 (again, you may have to adjust the shapes of one of the tensors).\n",
        "\n",
        "The output should look like:\n",
        "```\n",
        "(tensor([[0.3647, 0.4709],\n",
        "         [0.5184, 0.5617]], device='cuda:0'), torch.Size([2, 2]))\n",
        "```"
      ],
      "metadata": {
        "id": "5TlAxeiSiu1y"
      }
    },
    {
      "cell_type": "code",
      "source": [
        "# Perform matmul on tensor_A and tensor_B\n",
        "output = torch.matmul(tensor_A, tensor_B.T)\n",
        "print(f\"({output}, {output.shape})\")\n"
      ],
      "metadata": {
        "id": "fAeG7ox0lHEO",
        "outputId": "1ab4c446-c199-4e5c-8f44-5c7eeff94b86",
        "colab": {
          "base_uri": "https://localhost:8080/"
        }
      },
      "execution_count": 42,
      "outputs": [
        {
          "output_type": "stream",
          "name": "stdout",
          "text": [
            "(tensor([[0.3647, 0.4709],\n",
            "        [0.5184, 0.5617]], device='cuda:0'), torch.Size([2, 2]))\n"
          ]
        }
      ]
    },
    {
      "cell_type": "markdown",
      "source": [
        "### 8. Find the maximum and minimum values of the output of 7."
      ],
      "metadata": {
        "id": "G7qfa5CSivwg"
      }
    },
    {
      "cell_type": "code",
      "source": [
        "# Find max\n",
        "print(output.max())\n",
        "# Find min\n",
        "print(output.min())"
      ],
      "metadata": {
        "id": "Fu8_3mZpllOd",
        "outputId": "e1e4247f-09b4-41f9-e445-295478499044",
        "colab": {
          "base_uri": "https://localhost:8080/"
        }
      },
      "execution_count": 43,
      "outputs": [
        {
          "output_type": "stream",
          "name": "stdout",
          "text": [
            "tensor(0.5617, device='cuda:0')\n",
            "tensor(0.3647, device='cuda:0')\n"
          ]
        }
      ]
    },
    {
      "cell_type": "markdown",
      "source": [
        "### 9. Find the maximum and minimum index values of the output of 7."
      ],
      "metadata": {
        "id": "wrTj5FgNiw47"
      }
    },
    {
      "cell_type": "code",
      "source": [
        "# Find arg max\n",
        "print(output.argmax())\n",
        "\n",
        "# Find arg min\n",
        "print(output.argmin())\n"
      ],
      "metadata": {
        "id": "CCEKt4K2lsfQ",
        "outputId": "1ed62556-d0da-4e30-927f-1f58a55b80d8",
        "colab": {
          "base_uri": "https://localhost:8080/"
        }
      },
      "execution_count": 44,
      "outputs": [
        {
          "output_type": "stream",
          "name": "stdout",
          "text": [
            "tensor(3, device='cuda:0')\n",
            "tensor(0, device='cuda:0')\n"
          ]
        }
      ]
    },
    {
      "cell_type": "markdown",
      "source": [
        "\n",
        "### 10. Make a random tensor with shape `(1, 1, 1, 10)` and then create a new tensor with all the `1` dimensions removed to be left with a tensor of shape `(10)`. Set the seed to `7` when you create it and print out the first tensor and it's shape as well as the second tensor and it's shape.\n",
        "\n",
        "The output should look like:\n",
        "\n",
        "```\n",
        "tensor([[[[0.5349, 0.1988, 0.6592, 0.6569, 0.2328, 0.4251, 0.2071, 0.6297,\n",
        "           0.3653, 0.8513]]]]) torch.Size([1, 1, 1, 10])\n",
        "tensor([0.5349, 0.1988, 0.6592, 0.6569, 0.2328, 0.4251, 0.2071, 0.6297, 0.3653,\n",
        "        0.8513]) torch.Size([10])\n",
        "```"
      ],
      "metadata": {
        "id": "hmeybz4uixy7"
      }
    },
    {
      "cell_type": "code",
      "source": [
        "# Set seed\n",
        "torch.manual_seed(7)\n",
        "\n",
        "# Create random tensor\n",
        "random_tensor = torch.rand(1, 1, 1, 10)\n",
        "\n",
        "# Remove single dimensions\n",
        "new_tensor = random_tensor.squeeze()\n",
        "\n",
        "# Print out tensors and their shapes\n",
        "print(f\"{random_tensor}, {random_tensor.shape}\")\n",
        "print(f\"{new_tensor}, {new_tensor.shape}\")"
      ],
      "metadata": {
        "id": "TQ9zbRzVl1jV",
        "outputId": "02f0dc1b-f9b2-4f96-eb08-2ff5d133ca5c",
        "colab": {
          "base_uri": "https://localhost:8080/"
        }
      },
      "execution_count": 47,
      "outputs": [
        {
          "output_type": "stream",
          "name": "stdout",
          "text": [
            "tensor([[[[0.5349, 0.1988, 0.6592, 0.6569, 0.2328, 0.4251, 0.2071, 0.6297,\n",
            "           0.3653, 0.8513]]]]), torch.Size([1, 1, 1, 10])\n",
            "tensor([0.5349, 0.1988, 0.6592, 0.6569, 0.2328, 0.4251, 0.2071, 0.6297, 0.3653,\n",
            "        0.8513]), torch.Size([10])\n"
          ]
        }
      ]
    }
  ]
}